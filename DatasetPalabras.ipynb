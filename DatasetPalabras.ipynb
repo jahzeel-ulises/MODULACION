{
 "cells": [
  {
   "cell_type": "markdown",
   "metadata": {},
   "source": [
    "# Dataset palabras"
   ]
  },
  {
   "cell_type": "code",
   "execution_count": 1,
   "metadata": {},
   "outputs": [
    {
     "name": "stderr",
     "output_type": "stream",
     "text": [
      "[nltk_data] Downloading package punkt to /home/ulises/nltk_data...\n",
      "[nltk_data]   Package punkt is already up-to-date!\n",
      "[nltk_data] Downloading package stopwords to /home/ulises/nltk_data...\n",
      "[nltk_data]   Package stopwords is already up-to-date!\n"
     ]
    }
   ],
   "source": [
    "import numpy as np\n",
    "import pandas as pd\n",
    "import matplotlib.pyplot as plt\n",
    "import json\n",
    "from nltk.tokenize import word_tokenize\n",
    "import nltk\n",
    "import we_to_signal as wes"
   ]
  },
  {
   "cell_type": "code",
   "execution_count": 2,
   "metadata": {},
   "outputs": [
    {
     "data": {
      "text/html": [
       "<div>\n",
       "<style scoped>\n",
       "    .dataframe tbody tr th:only-of-type {\n",
       "        vertical-align: middle;\n",
       "    }\n",
       "\n",
       "    .dataframe tbody tr th {\n",
       "        vertical-align: top;\n",
       "    }\n",
       "\n",
       "    .dataframe thead th {\n",
       "        text-align: right;\n",
       "    }\n",
       "</style>\n",
       "<table border=\"1\" class=\"dataframe\">\n",
       "  <thead>\n",
       "    <tr style=\"text-align: right;\">\n",
       "      <th></th>\n",
       "      <th>poem</th>\n",
       "      <th>id</th>\n",
       "    </tr>\n",
       "  </thead>\n",
       "  <tbody>\n",
       "    <tr>\n",
       "      <th>0</th>\n",
       "      <td>i do know this  it's nothing i can hold\\nlast ...</td>\n",
       "      <td>10</td>\n",
       "    </tr>\n",
       "    <tr>\n",
       "      <th>1</th>\n",
       "      <td>the fear o' hell's a hangman's whip\\nto haud t...</td>\n",
       "      <td>18</td>\n",
       "    </tr>\n",
       "    <tr>\n",
       "      <th>2</th>\n",
       "      <td>but since i laid a hand thereon\\nand found a h...</td>\n",
       "      <td>88</td>\n",
       "    </tr>\n",
       "    <tr>\n",
       "      <th>3</th>\n",
       "      <td>falsely i pointed to sum in text\\nseriously he...</td>\n",
       "      <td>99</td>\n",
       "    </tr>\n",
       "    <tr>\n",
       "      <th>4</th>\n",
       "      <td>i'll wear my jealous reflection\\njuice of lemo...</td>\n",
       "      <td>125</td>\n",
       "    </tr>\n",
       "    <tr>\n",
       "      <th>...</th>\n",
       "      <td>...</td>\n",
       "      <td>...</td>\n",
       "    </tr>\n",
       "    <tr>\n",
       "      <th>2461</th>\n",
       "      <td>new snow on a leaf\\nlike granulated sugar\\nmak...</td>\n",
       "      <td>93124</td>\n",
       "    </tr>\n",
       "    <tr>\n",
       "      <th>2462</th>\n",
       "      <td>new earth and old earth\\na trio of guardians\\n...</td>\n",
       "      <td>93138</td>\n",
       "    </tr>\n",
       "    <tr>\n",
       "      <th>2463</th>\n",
       "      <td>destructions despair\\nconstructions hope  toge...</td>\n",
       "      <td>93217</td>\n",
       "    </tr>\n",
       "    <tr>\n",
       "      <th>2464</th>\n",
       "      <td>hot dry summers will\\nbake paint right off the...</td>\n",
       "      <td>93226</td>\n",
       "    </tr>\n",
       "    <tr>\n",
       "      <th>2465</th>\n",
       "      <td>a while since the scales\\ntwenty pound graduat...</td>\n",
       "      <td>93230</td>\n",
       "    </tr>\n",
       "  </tbody>\n",
       "</table>\n",
       "<p>2466 rows × 2 columns</p>\n",
       "</div>"
      ],
      "text/plain": [
       "                                                   poem     id\n",
       "0     i do know this  it's nothing i can hold\\nlast ...     10\n",
       "1     the fear o' hell's a hangman's whip\\nto haud t...     18\n",
       "2     but since i laid a hand thereon\\nand found a h...     88\n",
       "3     falsely i pointed to sum in text\\nseriously he...     99\n",
       "4     i'll wear my jealous reflection\\njuice of lemo...    125\n",
       "...                                                 ...    ...\n",
       "2461  new snow on a leaf\\nlike granulated sugar\\nmak...  93124\n",
       "2462  new earth and old earth\\na trio of guardians\\n...  93138\n",
       "2463  destructions despair\\nconstructions hope  toge...  93217\n",
       "2464  hot dry summers will\\nbake paint right off the...  93226\n",
       "2465  a while since the scales\\ntwenty pound graduat...  93230\n",
       "\n",
       "[2466 rows x 2 columns]"
      ]
     },
     "execution_count": 2,
     "metadata": {},
     "output_type": "execute_result"
    }
   ],
   "source": [
    "#Con los poemas separados, los metemos en un diccionario de dataframes\n",
    "import os\n",
    "\n",
    "data_path = \"data/\"\n",
    "emotion_list = [\"anger\", \"anticipation\", \"disgust\", \"fear\", \"joy\", \"sadness\", \"surprise\", \"trust\"]\n",
    "\n",
    "json_files = sorted([pos_json for pos_json in os.listdir(data_path) if pos_json.endswith('.json')])\n",
    "json_files.remove('Poems.json')\n",
    "json_files.remove('missing.json')\n",
    "\n",
    "em_poems = {}\n",
    "for e in emotion_list:\n",
    "    f = open(data_path+e+\".json\")\n",
    "    df_ = pd.DataFrame(json.load(f))\n",
    "    em_poems[e] = df_\n",
    "em_poems[\"anger\"]"
   ]
  },
  {
   "cell_type": "code",
   "execution_count": 3,
   "metadata": {},
   "outputs": [],
   "source": [
    "#Carga de embeddings\n",
    "from gensim.models import Word2Vec\n",
    "from gensim.models import FastText\n",
    "\n",
    "emotion_list = [\"anger\", \"anticipation\", \"disgust\", \"fear\", \"joy\", \"sadness\", \"surprise\", \"trust\"]\n",
    "\n",
    "poems_w2v = {}\n",
    "poems_fst = {}\n",
    "\n",
    "for e in emotion_list:\n",
    "    w2v_lines = Word2Vec.load(\"embeddings_poems/w2v_model_\"+e)\n",
    "    fst_lines = FastText.load(\"embeddings_poems/fst_model_\"+e)\n",
    "    poems_w2v[e] = w2v_lines\n",
    "    poems_fst[e] = fst_lines"
   ]
  },
  {
   "cell_type": "code",
   "execution_count": 9,
   "metadata": {},
   "outputs": [],
   "source": [
    "with open(\"embeddings_w2v.csv\", 'w') as archivo:\n",
    "    for emotion in emotion_list:\n",
    "        words = poems_w2v[emotion].wv.key_to_index.keys()\n",
    "        for word in words:\n",
    "            vector = poems_w2v[emotion].wv.get_vector(word,norm=True)\n",
    "            info = \"\"\n",
    "            for i in range(len(vector)):\n",
    "                info += str(vector[i]) + \",\"\n",
    "            info += str(emotion)\n",
    "            archivo.write(info+\"\\n\")"
   ]
  },
  {
   "cell_type": "code",
   "execution_count": 10,
   "metadata": {},
   "outputs": [],
   "source": [
    "with open(\"embeddings_fst.csv\", 'w') as archivo:\n",
    "    for emotion in emotion_list:\n",
    "        words = poems_fst[emotion].wv.key_to_index.keys()\n",
    "        for word in words:\n",
    "            vector = poems_fst[emotion].wv.get_vector(word,norm=True)\n",
    "            info = \"\"\n",
    "            for i in range(len(vector)):\n",
    "                info += str(vector[i]) + \",\"\n",
    "            info += str(emotion)\n",
    "            archivo.write(info+\"\\n\")"
   ]
  }
 ],
 "metadata": {
  "kernelspec": {
   "display_name": ".env",
   "language": "python",
   "name": "python3"
  },
  "language_info": {
   "codemirror_mode": {
    "name": "ipython",
    "version": 3
   },
   "file_extension": ".py",
   "mimetype": "text/x-python",
   "name": "python",
   "nbconvert_exporter": "python",
   "pygments_lexer": "ipython3",
   "version": "3.11.5"
  }
 },
 "nbformat": 4,
 "nbformat_minor": 2
}
